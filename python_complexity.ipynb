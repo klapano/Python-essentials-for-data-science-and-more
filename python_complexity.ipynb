{
 "cells": [
  {
   "cell_type": "code",
   "execution_count": 1,
   "id": "9fd40d5b",
   "metadata": {},
   "outputs": [
    {
     "name": "stdout",
     "output_type": "stream",
     "text": [
      "August\n",
      "June\n"
     ]
    }
   ],
   "source": [
    "#temprature---> temp\n",
    "\n",
    "temp = {\n",
    "        'June': [25,25,26,27,25,25,24,27,28,28,31,32,33],\n",
    "        'July': [34,34,36,39,39,38,39,37,39,41,41,39,37],\n",
    "        'August': [37,37,36,37,35,35,34,37,38,34,32,33,31],\n",
    "}\n",
    "\n",
    "max_val = list(temp.values())\n",
    "max_key = list(temp.keys())\n",
    "\n",
    "min_val = list(temp.values())\n",
    "min_key = list(temp.keys())\n",
    "\n",
    "\n",
    "print(max_key[max_val.index(max(max_val))])\n",
    "\n",
    "print(min_key[min_val.index(min(min_val))])"
   ]
  },
  {
   "cell_type": "markdown",
   "id": "e4a27e38",
   "metadata": {},
   "source": [
    "# exercise 2"
   ]
  },
  {
   "cell_type": "code",
   "execution_count": 3,
   "id": "02fb7dc3",
   "metadata": {},
   "outputs": [
    {
     "data": {
      "text/plain": [
       "{0, 1, 2, 3, 7, 8, 9}"
      ]
     },
     "execution_count": 3,
     "metadata": {},
     "output_type": "execute_result"
    }
   ],
   "source": [
    "x = [2,4,5,6,7,1,6,8]\n",
    "y = [3,4,5,6,0,3,9]\n",
    "\n",
    "x = set(x)\n",
    "y = set(y)\n",
    "\n",
    "x ^ y"
   ]
  },
  {
   "cell_type": "markdown",
   "id": "a9532411",
   "metadata": {},
   "source": [
    "# exercise 3"
   ]
  },
  {
   "cell_type": "code",
   "execution_count": 6,
   "id": "223e97fe",
   "metadata": {},
   "outputs": [
    {
     "name": "stdout",
     "output_type": "stream",
     "text": [
      "[4, 16, 36, 64, 100]\n"
     ]
    }
   ],
   "source": [
    "#Make a list of the squares of the even numbers between 1 to 10\n",
    "\n",
    "even_numbers = [x**2 for x in range(1,11) if (x%2) == 0]\n",
    "print(even_numbers)"
   ]
  },
  {
   "cell_type": "markdown",
   "id": "be447bab",
   "metadata": {},
   "source": [
    "# exercise 4"
   ]
  },
  {
   "cell_type": "code",
   "execution_count": 7,
   "id": "54908cf2",
   "metadata": {},
   "outputs": [
    {
     "name": "stdout",
     "output_type": "stream",
     "text": [
      "[64, 512, 1728]\n"
     ]
    }
   ],
   "source": [
    "#Make a list of cubes that are evenly divisible by four from a list of numbers between 1 and 12\n",
    "\n",
    "\n",
    "numbers = [x**3 for x in range(1,13) if (x%4) == 0]\n",
    "print(numbers)"
   ]
  },
  {
   "cell_type": "markdown",
   "id": "151a8970",
   "metadata": {},
   "source": [
    "# exercise 5"
   ]
  },
  {
   "cell_type": "code",
   "execution_count": 25,
   "id": "c5f401d4",
   "metadata": {},
   "outputs": [
    {
     "name": "stdout",
     "output_type": "stream",
     "text": [
      "[4, 16, 36, 64, 100]\n"
     ]
    }
   ],
   "source": [
    "#Create a function that takes a list of numbers and returns a list with only the ones that are even\n",
    "\n",
    "def the_even_numbers(number_list):\n",
    "    #a function that takes a list of numbers and returns a list with only the ones that are even\n",
    "    \n",
    "    even_numbers = []\n",
    "    for i in number_list:\n",
    "        if i%2 == 0:\n",
    "            even.numbers.append(i)\n",
    "            \n",
    "    return number_list\n",
    "\n",
    "\n",
    "print(even_numbers)   \n",
    "    "
   ]
  },
  {
   "cell_type": "markdown",
   "id": "76346fea",
   "metadata": {},
   "source": [
    "# exercise 6"
   ]
  },
  {
   "cell_type": "code",
   "execution_count": 13,
   "id": "90971ef4",
   "metadata": {},
   "outputs": [
    {
     "name": "stdout",
     "output_type": "stream",
     "text": [
      "[8, 16, 20, 28, 4, 20, 28, 16, 8, 36, 32, 24]\n"
     ]
    }
   ],
   "source": [
    "#Multiply by 4 each element from a list and store it in another list. Use list comprehension.\n",
    "\n",
    "lst = [2,4,5,7,1,5,7,4,2,9,8,6]\n",
    "\n",
    "lists = [x*4 for x in lst]\n",
    "print(lists)\n",
    "\n"
   ]
  },
  {
   "cell_type": "markdown",
   "id": "07a29039",
   "metadata": {},
   "source": [
    "# exercise 7"
   ]
  },
  {
   "cell_type": "code",
   "execution_count": 20,
   "id": "a3833094",
   "metadata": {},
   "outputs": [
    {
     "name": "stdout",
     "output_type": "stream",
     "text": [
      "[66, 67, 77, 86, 88, 78, 99, 100, 93]\n"
     ]
    }
   ],
   "source": [
    "#Use list comprehension to filter numbers above 60 and append them to another list.\n",
    "\n",
    "lst = [66,53,23,67,77,86,88,34,78,99,100,45,93]\n",
    "another_list = [i for i in lst if i > 60 ]\n",
    "\n",
    "\n",
    "print(another_list)"
   ]
  },
  {
   "cell_type": "markdown",
   "id": "54faf23a",
   "metadata": {},
   "source": [
    "# exercise 8"
   ]
  },
  {
   "cell_type": "code",
   "execution_count": 26,
   "id": "13906b32",
   "metadata": {},
   "outputs": [
    {
     "name": "stdout",
     "output_type": "stream",
     "text": [
      "{'milk': 1.9469999999999998, 'coffee': 5.31, 'bread': 3.2449999999999997, 'sugar': 0.649}\n"
     ]
    }
   ],
   "source": [
    "#Create a new dictionary with converted values to CHF.\n",
    "\n",
    "d = {'milk': 1.65, 'coffee': 4.5, 'bread': 2.75, 'sugar': 0.55}\n",
    "\n",
    "new_d = {k:v*1.18 for (k,v) in d.items()}\n",
    "\n",
    "print(new_d)"
   ]
  },
  {
   "cell_type": "markdown",
   "id": "23359e03",
   "metadata": {},
   "source": [
    "# exercise 9"
   ]
  },
  {
   "cell_type": "code",
   "execution_count": 3,
   "id": "d2b3d466",
   "metadata": {},
   "outputs": [
    {
     "name": "stdout",
     "output_type": "stream",
     "text": [
      "{'signal_x': 474, 'signal_y': 321, 'signal_z': 0.985}\n"
     ]
    }
   ],
   "source": [
    "#Filter out the keys containing the word error and write the rest to a new dictionary using dictionary comprehension.\n",
    "\n",
    "\n",
    "d = {'signal_x': 474, 'signal_x_error': 0.44, 'signal_y': 321, 'signal_y_error' : 0.12, 'signal_z': 0.985, 'signal_z_error': 0.032}\n",
    "\n",
    "\n",
    "new_dict = {key:value for key,value in d.items() if 'error' not in key}\n",
    "print(new_dict)"
   ]
  },
  {
   "cell_type": "markdown",
   "id": "f5a15f18",
   "metadata": {},
   "source": [
    "# exercise 10"
   ]
  },
  {
   "cell_type": "code",
   "execution_count": 17,
   "id": "a39f9f93",
   "metadata": {},
   "outputs": [
    {
     "name": "stdout",
     "output_type": "stream",
     "text": [
      "e\n"
     ]
    }
   ],
   "source": [
    "sentence = \"I like to codeee\"\n",
    "sentence = sentence.lower()\n",
    "\n",
    "freq = {}\n",
    "\n",
    "for i in sentence:\n",
    "    if i in freq:\n",
    "        freq[i] = freq[i] + 1\n",
    "    else:\n",
    "        freq[i] = 1\n",
    "        \n",
    "        \n",
    "result = max(freq, key = freq.get)\n",
    "print(result)"
   ]
  },
  {
   "cell_type": "code",
   "execution_count": 18,
   "id": "feca4ddf",
   "metadata": {},
   "outputs": [
    {
     "name": "stdout",
     "output_type": "stream",
     "text": [
      "{'i': 2, ' ': 3, 'l': 1, 'k': 1, 'e': 4, 't': 1, 'o': 2, 'c': 1, 'd': 1}\n"
     ]
    }
   ],
   "source": [
    "sentence = \"I like to codeee\"\n",
    "sentence = sentence.lower()\n",
    "\n",
    "new = {}\n",
    "\n",
    "for item in sentence:\n",
    "    if item in new:\n",
    "        new[item]+=1\n",
    "    else:\n",
    "        new[item] = 1\n",
    "        \n",
    "print(new)        "
   ]
  },
  {
   "cell_type": "markdown",
   "id": "3ff8db6c",
   "metadata": {},
   "source": [
    "# exercise 11"
   ]
  },
  {
   "cell_type": "code",
   "execution_count": 1,
   "id": "cd32b9fb",
   "metadata": {},
   "outputs": [
    {
     "name": "stdout",
     "output_type": "stream",
     "text": [
      "Hello! What is your name?klaudio\n",
      "klaudio\n",
      "Well, klaudio, I am thinking of a number between 1 and 20.\n",
      "Take a guess.5\n",
      "5\n",
      "Your guess is too high\n",
      "\n",
      "Take a guess.6\n",
      "6\n",
      "Your guess is too high\n",
      "\n",
      "Take a guess.2\n",
      "2\n",
      "Your guess is too low\n",
      "\n",
      "Take a guess.1\n",
      "1\n",
      "Your guess is too low\n",
      "\n",
      "Take a guess.1\n",
      "1\n",
      "Your guess is too low\n",
      "\n",
      "Take a guess.3\n",
      "3\n",
      "Good job, klaudio! You guessed my number in 6 guesses!\n"
     ]
    }
   ],
   "source": [
    "import random\n",
    "\n",
    "numguess = random.randint(1,21)\n",
    "name = input(\"Hello! What is your name?\")\n",
    "print(name)\n",
    "num = int(input(\"Well, %s, I am thinking of a number between 1 and 20.\\nTake a guess.\"%name))\n",
    "print(num)\n",
    "count=1\n",
    "\n",
    "while 1<=num<=20:\n",
    "    if num is numguess:\n",
    "\n",
    "        print(\"Good job, %s! You guessed my number in %d guesses!\"%(name,count))\n",
    "        break\n",
    "\n",
    "    elif num < numguess:\n",
    "\n",
    "        print(\"Your guess is too low\")\n",
    "        num=int(input(\"\\nTake a guess.\"))\n",
    "        print(num)\n",
    "\n",
    "    elif num > numguess:\n",
    "\n",
    "        print(\"Your guess is too high\")\n",
    "        num=int(input(\"\\nTake a guess.\"))\n",
    "        print(num)\n",
    "\n",
    "    count+=1\n",
    "\n",
    "    if count>10:\n",
    "\n",
    "        print(\"Too many Guess Better Luck Next Time\")\n",
    "        break\n",
    "\n",
    "if num>20:\n",
    "\n",
    "    print(\"LOL!!! Out of Bounds\")"
   ]
  },
  {
   "cell_type": "code",
   "execution_count": null,
   "id": "3b495e7a",
   "metadata": {},
   "outputs": [],
   "source": []
  }
 ],
 "metadata": {
  "kernelspec": {
   "display_name": "Python 3 (ipykernel)",
   "language": "python",
   "name": "python3"
  },
  "language_info": {
   "codemirror_mode": {
    "name": "ipython",
    "version": 3
   },
   "file_extension": ".py",
   "mimetype": "text/x-python",
   "name": "python",
   "nbconvert_exporter": "python",
   "pygments_lexer": "ipython3",
   "version": "3.8.10"
  }
 },
 "nbformat": 4,
 "nbformat_minor": 5
}
