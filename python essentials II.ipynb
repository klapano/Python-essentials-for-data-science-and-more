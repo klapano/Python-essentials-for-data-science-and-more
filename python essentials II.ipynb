{
 "cells": [
  {
   "cell_type": "markdown",
   "id": "5bb0a09d",
   "metadata": {},
   "source": [
    "# exercise 1"
   ]
  },
  {
   "cell_type": "code",
   "execution_count": 1,
   "id": "fd98cda3",
   "metadata": {},
   "outputs": [
    {
     "name": "stdout",
     "output_type": "stream",
     "text": [
      "Python\n"
     ]
    }
   ],
   "source": [
    "list = ['Python', 'R', 'C', 'Java']\n",
    "\n",
    "print(list[0])"
   ]
  },
  {
   "cell_type": "code",
   "execution_count": 2,
   "id": "3f48d602",
   "metadata": {},
   "outputs": [
    {
     "name": "stdout",
     "output_type": "stream",
     "text": [
      "R\n"
     ]
    }
   ],
   "source": [
    "print(list[1])"
   ]
  },
  {
   "cell_type": "code",
   "execution_count": 3,
   "id": "11a2c536",
   "metadata": {},
   "outputs": [
    {
     "name": "stdout",
     "output_type": "stream",
     "text": [
      "C\n"
     ]
    }
   ],
   "source": [
    "print(list[2])"
   ]
  },
  {
   "cell_type": "code",
   "execution_count": 4,
   "id": "030e64ae",
   "metadata": {},
   "outputs": [
    {
     "name": "stdout",
     "output_type": "stream",
     "text": [
      "Java\n"
     ]
    }
   ],
   "source": [
    "print(list[3])"
   ]
  },
  {
   "cell_type": "markdown",
   "id": "37e2723d",
   "metadata": {},
   "source": [
    "# exercise 2"
   ]
  },
  {
   "cell_type": "code",
   "execution_count": 43,
   "id": "491ca97d",
   "metadata": {},
   "outputs": [
    {
     "name": "stdout",
     "output_type": "stream",
     "text": [
      "Enter number: 4\n",
      "The multiples are: \n",
      "4 8 12 16 20 24 28 32 36 40 "
     ]
    }
   ],
   "source": [
    "list_of_ten\n",
    "for i in range(1,11):\n",
    "    print(n*i, end =\" \")"
   ]
  },
  {
   "cell_type": "markdown",
   "id": "e0401dae",
   "metadata": {},
   "source": [
    "# exercise 3\n"
   ]
  },
  {
   "cell_type": "code",
   "execution_count": 46,
   "id": "ac174f56",
   "metadata": {},
   "outputs": [
    {
     "name": "stdout",
     "output_type": "stream",
     "text": [
      "the lowest possible score is: 1\n",
      "the highest possible score is: 10\n"
     ]
    }
   ],
   "source": [
    "#a) Print the lowest and highest possible score in a sentence\n",
    "\n",
    "list = [1,2,3,4,5,6,7,8,9,10]\n",
    "print(\"the lowest possible score is:\", min(list))\n",
    "print(\"the highest possible score is:\", max(list))"
   ]
  },
  {
   "cell_type": "markdown",
   "id": "841a7992",
   "metadata": {},
   "source": [
    "# exercise 4"
   ]
  },
  {
   "cell_type": "code",
   "execution_count": 40,
   "id": "7b1434a0",
   "metadata": {},
   "outputs": [
    {
     "name": "stdout",
     "output_type": "stream",
     "text": [
      "AGCTTTTCATTCTGACTGCAACGGGCAATATGTCTCTGTGTGGATTAAAAAAAGAGTGTCTGATAGCAGC\n"
     ]
    }
   ],
   "source": [
    "#Return four integers (separated by spaces) counting the respective number of times that the symbols 'A', 'C', 'G', and 'T' occur in 'DNA'.\n",
    "\n",
    "from collections import Counter\n",
    "dna = 'AGCTTTTCATTCTGACTGCAACGGGCAATATGTCTCTGTGTGGATTAAAAAAAGAGTGTCTGATAGCAGC'\n",
    "a = Counter(s)\n",
    "print (dna)"
   ]
  },
  {
   "cell_type": "code",
   "execution_count": 42,
   "id": "d59a3eff",
   "metadata": {},
   "outputs": [
    {
     "name": "stdout",
     "output_type": "stream",
     "text": [
      "AGCUUUUCAUUCUGACUGCAACGGGCAAUAUGUCUCUGUGUGGAUUAAAAAAAGAGUGUCUGAUAGCAGC\n"
     ]
    }
   ],
   "source": [
    "#Return the transcribed RNA string of 'DNA'\n",
    "\n",
    "dna = 'AGCTTTTCATTCTGACTGCAACGGGCAATATGTCTCTGTGTGGATTAAAAAAAGAGTGTCTGATAGCAGC'\n",
    "\n",
    "print(dna.replace('T', 'U'))"
   ]
  },
  {
   "cell_type": "markdown",
   "id": "62060ba2",
   "metadata": {},
   "source": [
    "# exercise 6"
   ]
  },
  {
   "cell_type": "code",
   "execution_count": 47,
   "id": "296c4aeb",
   "metadata": {},
   "outputs": [
    {
     "name": "stdout",
     "output_type": "stream",
     "text": [
      "enter an interger :4\n",
      "10\n"
     ]
    }
   ],
   "source": [
    "#Write a program that takes as input an integer n and calculates the sum of all integers between 1 and n\n",
    "\n",
    "n = int(input(\"enter an interger :\"))\n",
    "sum_n = 0\n",
    "for i in range(1,n+1):\n",
    "    sum_n += i\n",
    "print(sum_n) "
   ]
  },
  {
   "cell_type": "markdown",
   "id": "ca1408fe",
   "metadata": {},
   "source": [
    "# exercise 5"
   ]
  },
  {
   "cell_type": "code",
   "execution_count": 7,
   "id": "b58f578b",
   "metadata": {},
   "outputs": [
    {
     "name": "stdout",
     "output_type": "stream",
     "text": [
      "14490\n"
     ]
    }
   ],
   "source": [
    "#Multiply all elements of the following list: x = [3,5,23,6,7]\n",
    "\n",
    "a = 1 # not number zero cause anything mutiple with zero is going to get us zero\n",
    "x = [3,5,23,6,7]\n",
    "for i in x:\n",
    "    a *= i\n",
    "print(a)"
   ]
  },
  {
   "cell_type": "markdown",
   "id": "146a08ad",
   "metadata": {},
   "source": [
    "# exercise 7"
   ]
  },
  {
   "cell_type": "code",
   "execution_count": 50,
   "id": "eee1eff7",
   "metadata": {},
   "outputs": [
    {
     "name": "stdout",
     "output_type": "stream",
     "text": [
      "The second largest element of the list is: 77\n"
     ]
    }
   ],
   "source": [
    "#Find the second largest number in the following list: x = [44,32,65,77,12,86]\n",
    "\n",
    "x = [44,32,65,77,12,86]\n",
    "y = x.sort()\n",
    "\n",
    "print(\"The second largest element of the list is:\", x[-2])"
   ]
  },
  {
   "cell_type": "markdown",
   "id": "df002266",
   "metadata": {},
   "source": [
    "# exercise 8"
   ]
  },
  {
   "cell_type": "code",
   "execution_count": 104,
   "id": "76c3b53e",
   "metadata": {},
   "outputs": [
    {
     "data": {
      "text/plain": [
       "'hotmail.com'"
      ]
     },
     "execution_count": 104,
     "metadata": {},
     "output_type": "execute_result"
    }
   ],
   "source": [
    "test_string = \"klaudio_1995@hotmail.com\"\n",
    "x = test_string.split('@')\n",
    "x[1]"
   ]
  },
  {
   "cell_type": "markdown",
   "id": "ad624330",
   "metadata": {},
   "source": [
    "# exercise 9"
   ]
  },
  {
   "cell_type": "code",
   "execution_count": 97,
   "id": "b1cb97c6",
   "metadata": {},
   "outputs": [
    {
     "name": "stdout",
     "output_type": "stream",
     "text": [
      "Data Science\n"
     ]
    }
   ],
   "source": [
    "#Given the following list, use indexing to grab the word Data Science lst = [1,2,[3,4],[5,[100,200,['Data Science']],23,11],1,7]\n",
    "\n",
    "lst = [1,2,[3,4],[5,[100,200,['Data Science']],23,11],1,7]\n",
    "print(lst[3][1][2][0])"
   ]
  },
  {
   "cell_type": "markdown",
   "id": "1541325c",
   "metadata": {},
   "source": [
    "# exercise 10"
   ]
  },
  {
   "cell_type": "code",
   "execution_count": 96,
   "id": "f7199098",
   "metadata": {},
   "outputs": [
    {
     "name": "stdout",
     "output_type": "stream",
     "text": [
      "[32, 3, 5, 4, 2, 6, 7, 8]\n"
     ]
    }
   ],
   "source": [
    "#Create a new list without duplicates from the given list: x = [32,3,5,4,4,3,2,6,4,5,6,7,8]\n",
    "\n",
    "x = [32,3,5,4,4,3,2,6,4,5,6,7,8]\n",
    "lst = []\n",
    "\n",
    "for item in range(len(x)):\n",
    "    if x[item] in lst:\n",
    "        pass\n",
    "    else:\n",
    "        lst.append(x[item])\n",
    "        \n",
    "print(lst)        "
   ]
  },
  {
   "cell_type": "markdown",
   "id": "6257d021",
   "metadata": {},
   "source": [
    "# exercise 11"
   ]
  },
  {
   "cell_type": "code",
   "execution_count": 11,
   "id": "ed49e857",
   "metadata": {},
   "outputs": [
    {
     "name": "stdout",
     "output_type": "stream",
     "text": [
      "{1, 2, 7, 8} {0, 3, 9}\n"
     ]
    }
   ],
   "source": [
    "#From the two following lists: x = [2,4,5,6,7,1,6,8], y = [3,4,5,6,0,3,9] create a new list with the non common elements.\n",
    "\n",
    "x = [2,4,5,6,7,1,6,8]\n",
    "y = [3,4,5,6,0,3,9]\n",
    "\n",
    "z = set(x).difference(y)\n",
    "c = set(y).difference(x)\n",
    "print(z,c)"
   ]
  },
  {
   "cell_type": "markdown",
   "id": "af51fbb1",
   "metadata": {},
   "source": [
    "# exercise 12"
   ]
  },
  {
   "cell_type": "code",
   "execution_count": 50,
   "id": "971b6ea9",
   "metadata": {},
   "outputs": [
    {
     "name": "stdout",
     "output_type": "stream",
     "text": [
      "[4, 67, 8, 32, 21]\n"
     ]
    }
   ],
   "source": [
    "#Write a program that removes a string in a list. Example: x = [4,67,8, 'None', 32, 'Missing', 21]\n",
    "\n",
    "x = [4,67,8, 'None', 32, 'Missing', 21]\n",
    "\n",
    "lst = []\n",
    "\n",
    "for i in x:\n",
    "    if type(i)== str:\n",
    "        pass\n",
    "    else:\n",
    "        lst.append(i)\n",
    "        \n",
    "print(lst)"
   ]
  },
  {
   "cell_type": "code",
   "execution_count": 35,
   "id": "fdccda6e",
   "metadata": {},
   "outputs": [
    {
     "name": "stdout",
     "output_type": "stream",
     "text": [
      "[4, 67, 8, 32, 21]\n"
     ]
    }
   ],
   "source": [
    "#Write a program that removes a string in a list. Example: x = [4,67,8, 'None', 32, 'Missing', 21]\n",
    "\n",
    "x = [4,67,8, 'None', 32, 'Missing', 21]\n",
    "\n",
    "a = 'None'\n",
    "b = 'Missing'\n",
    "\n",
    "while a and b in x:\n",
    "    x.remove(a)\n",
    "    x.remove(b)\n",
    "    print(x)   "
   ]
  },
  {
   "cell_type": "markdown",
   "id": "d6c68fa6",
   "metadata": {},
   "source": [
    "# exercise 13"
   ]
  },
  {
   "cell_type": "code",
   "execution_count": 34,
   "id": "1b53f361",
   "metadata": {},
   "outputs": [
    {
     "name": "stdout",
     "output_type": "stream",
     "text": [
      "the is in there\n",
      "a is in palm\n",
      "is is in island\n",
      "a is in island\n"
     ]
    }
   ],
   "source": [
    "''''For the string \"There is a palm tree on the island\", print which words appear within which other words \n",
    "(you can use any other sentence)'''\n",
    "\n",
    "\n",
    "x = \"there is a palm tree on the island\"\n",
    "words = x.lower().split()\n",
    "\n",
    "for word in words:\n",
    "    for sub_words in words:\n",
    "        if sub_words in word and sub_words != word:\n",
    "            print(str(sub_words) + \" is in \"  + str(word))\n",
    "        else:\n",
    "                continue\n",
    "\n"
   ]
  },
  {
   "cell_type": "markdown",
   "id": "feadfae4",
   "metadata": {},
   "source": [
    "# exercise 14"
   ]
  },
  {
   "cell_type": "code",
   "execution_count": 10,
   "id": "925cb385",
   "metadata": {},
   "outputs": [
    {
     "name": "stdout",
     "output_type": "stream",
     "text": [
      "silent is an anagram of listen\n",
      "listen is an anagram of silent\n"
     ]
    }
   ],
   "source": [
    "#Print all words in a string that are anagram of each other: “How can you listen if you are not silent?”\n",
    "\n",
    "string = \"How can you listen if you are not silent?\"\n",
    "\n",
    "words = string.replace(\"?\",\"\").lower().split()\n",
    "\n",
    "\n",
    "for word in words:\n",
    "    for sub_word in words:\n",
    "        if sorted(sub_word)==sorted(word) and sub_word!=word:\n",
    "            \n",
    "            print(str(sub_word) + \" is an anagram of \"+ str(word))"
   ]
  },
  {
   "cell_type": "markdown",
   "id": "82c2d394",
   "metadata": {},
   "source": [
    "# exercise 15\n"
   ]
  },
  {
   "cell_type": "code",
   "execution_count": 5,
   "id": "98777bfd",
   "metadata": {},
   "outputs": [
    {
     "name": "stdout",
     "output_type": "stream",
     "text": [
      "[1, 2, 3, 4, 5, 6, 'data science', 'laptop', 0, 6, 7]\n"
     ]
    }
   ],
   "source": [
    "#A list cleaner: create a program that detects if an element in the list is an inner list and then places these elements in the primary list (right where the element was).\n",
    "\n",
    "\n",
    "lists = [1,2,[3,4],5,6,[\"data science\",\"laptop\"],0,6,7]\n",
    "\n",
    "a = []\n",
    "for i in range(len(lists)):\n",
    "    if type(lists[i])==list:\n",
    "        a.extend(lists[i])\n",
    "    else:\n",
    "        a.append(lists[i])\n",
    "        \n",
    "print(a)        \n"
   ]
  },
  {
   "cell_type": "code",
   "execution_count": 109,
   "id": "8a1c0e1e",
   "metadata": {},
   "outputs": [
    {
     "name": "stdout",
     "output_type": "stream",
     "text": [
      "14490\n"
     ]
    }
   ],
   "source": [
    "x = [3,5,23,6,7]\n",
    "\n",
    "d = 1\n",
    "for item in x:\n",
    "    d = item *d\n",
    "    \n",
    "print(d)    "
   ]
  },
  {
   "cell_type": "code",
   "execution_count": null,
   "id": "83a2817f",
   "metadata": {},
   "outputs": [],
   "source": []
  }
 ],
 "metadata": {
  "kernelspec": {
   "display_name": "Python 3 (ipykernel)",
   "language": "python",
   "name": "python3"
  },
  "language_info": {
   "codemirror_mode": {
    "name": "ipython",
    "version": 3
   },
   "file_extension": ".py",
   "mimetype": "text/x-python",
   "name": "python",
   "nbconvert_exporter": "python",
   "pygments_lexer": "ipython3",
   "version": "3.8.10"
  }
 },
 "nbformat": 4,
 "nbformat_minor": 5
}
