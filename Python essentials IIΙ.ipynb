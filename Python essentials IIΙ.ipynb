{
 "cells": [
  {
   "cell_type": "markdown",
   "id": "84f2cda1",
   "metadata": {},
   "source": [
    "# exercise 1"
   ]
  },
  {
   "cell_type": "code",
   "execution_count": 6,
   "id": "e3cd7ff3",
   "metadata": {},
   "outputs": [
    {
     "name": "stdout",
     "output_type": "stream",
     "text": [
      "['pie', 'alien', 'superman', 'the island', 'the godfather', 'once upon a time in America']\n"
     ]
    }
   ],
   "source": [
    "x = ['the island', 'pie', 'alien', 'superman', 'once upon a time in America', 'the godfather']\n",
    "\n",
    "x.sort(key=len)\n",
    "print(x)"
   ]
  },
  {
   "cell_type": "markdown",
   "id": "68c0a661",
   "metadata": {},
   "source": [
    "# exercise 2"
   ]
  },
  {
   "cell_type": "code",
   "execution_count": 10,
   "id": "bb99714c",
   "metadata": {},
   "outputs": [
    {
     "name": "stdout",
     "output_type": "stream",
     "text": [
      "{'gold': 500, 'pouch': ['flint', 'twine', 'gemstone'], 'backpack': ['xylophone', 'dagger', 'bedroll', 'bread loaf'], 'pocket': ['seashell', 'strange berry', 'lint']}\n"
     ]
    }
   ],
   "source": [
    "inventory = {\n",
    "\n",
    "    'gold' : 500,\n",
    "\n",
    "    'pouch' : ['flint', 'twine', 'gemstone'],\n",
    "\n",
    "    'backpack' : ['xylophone','dagger', 'bedroll','bread loaf']\n",
    "\n",
    "}\n",
    "\n",
    "\n",
    "#Add a key to inventory called 'pocket' and Set the value of 'pocket' to be a list consisting of the strings 'seashell', 'strange berry', and 'lint'.\n",
    "inventory['pocket'] = ['seashell', 'strange berry', 'lint']\n",
    "print(inventory)\n",
    "\n",
    "\n"
   ]
  },
  {
   "cell_type": "code",
   "execution_count": 6,
   "id": "ac76e225",
   "metadata": {},
   "outputs": [
    {
     "name": "stdout",
     "output_type": "stream",
     "text": [
      "{'gold': 500, 'pouch': ['flint', 'twine', 'gemstone'], 'backpack': ['bedroll', 'bread loaf', 'dagger', 'xylophone']}\n"
     ]
    }
   ],
   "source": [
    "#.sort()the items in the list stored under the 'backpack' key.\n",
    "\n",
    "\n",
    "inventory = {\n",
    "\n",
    "    'gold' : 500,\n",
    "\n",
    "    'pouch' : ['flint', 'twine', 'gemstone'],\n",
    "\n",
    "    'backpack' : ['xylophone','dagger', 'bedroll','bread loaf']\n",
    "\n",
    "}\n",
    "\n",
    "\n",
    "\n",
    "inventory['backpack'].sort()\n",
    "          \n",
    "print(inventory)\n"
   ]
  },
  {
   "cell_type": "code",
   "execution_count": 44,
   "id": "3a941a28",
   "metadata": {},
   "outputs": [
    {
     "name": "stdout",
     "output_type": "stream",
     "text": [
      "{'gold': 500, 'pouch': ['flint', 'twine', 'gemstone'], 'backpack': ['xylophone', 'bedroll', 'bread loaf']}\n"
     ]
    }
   ],
   "source": [
    "#Then .remove('dagger') from the list of items stored under the 'backpack' key.\n",
    "\n",
    "inventory = {\n",
    "\n",
    "    'gold' : 500,\n",
    "\n",
    "    'pouch' : ['flint', 'twine', 'gemstone'],\n",
    "\n",
    "    'backpack' : ['xylophone','dagger', 'bedroll','bread loaf']\n",
    "\n",
    "}\n",
    "\n",
    "\n",
    "del inventory['backpack'][1] \n",
    "\n",
    "print(inventory)"
   ]
  },
  {
   "cell_type": "code",
   "execution_count": 49,
   "id": "5aea2a58",
   "metadata": {},
   "outputs": [
    {
     "name": "stdout",
     "output_type": "stream",
     "text": [
      "{'gold': 550, 'pouch': ['flint', 'twine', 'gemstone'], 'backpack': ['xylophone', 'dagger', 'bedroll', 'bread loaf']}\n"
     ]
    }
   ],
   "source": [
    "#Add 50 to the number stored under the 'gold' key.\n",
    "\n",
    "\n",
    "inventory = {\n",
    "\n",
    "    'gold' : 500,\n",
    "\n",
    "    'pouch' : ['flint', 'twine', 'gemstone'],\n",
    "\n",
    "    'backpack' : ['xylophone','dagger', 'bedroll','bread loaf']\n",
    "\n",
    "}\n",
    "\n",
    "\n",
    "inventory['gold'] = 500 + 50\n",
    "\n",
    "print(inventory)"
   ]
  },
  {
   "cell_type": "markdown",
   "id": "20bb5240",
   "metadata": {},
   "source": [
    "# exercise 3"
   ]
  },
  {
   "cell_type": "code",
   "execution_count": 57,
   "id": "b0bd1be3",
   "metadata": {},
   "outputs": [
    {
     "data": {
      "text/plain": [
       "'Artificial Intelligence'"
      ]
     },
     "execution_count": 57,
     "metadata": {},
     "output_type": "execute_result"
    }
   ],
   "source": [
    "#Given the following dictionary use indexing to grab the word Artificial Intelligence\n",
    "\n",
    "d = {'k1':[1,2,3,{'tricky':['life','man','machine',{'target':[1,2,3,'Artificial Intelligence']}]}]}\n",
    "\n",
    "d['k1'][3]['tricky'][3]['target'][3]"
   ]
  },
  {
   "cell_type": "markdown",
   "id": "544f89f0",
   "metadata": {},
   "source": [
    "# exercise 4"
   ]
  },
  {
   "cell_type": "code",
   "execution_count": 65,
   "id": "97578a0d",
   "metadata": {},
   "outputs": [
    {
     "name": "stdout",
     "output_type": "stream",
     "text": [
      "{'banana': 4, 'apple': 2, 'orange': 1.5, 'pear': 3, 'grapes': 2.5, 'mellons': 3}\n"
     ]
    }
   ],
   "source": [
    "#a.Create a new dictionary called price: with the following content:\n",
    "\n",
    "price = { \n",
    "    \n",
    "\"banana\": 4,\n",
    "\n",
    "\"apple\": 2,\n",
    "\n",
    "\"orange\": 1.5,\n",
    "\n",
    "\"pear\": 3\n",
    "    \n",
    "}\n",
    "\n",
    "\n",
    "#b. Create another dictionary with the following contents and add it to the first one:\n",
    "\n",
    "another_dict_price = {\"grapes\": 2.5,\n",
    "\n",
    "\"mellons\": 3}\n",
    "\n",
    "\n",
    "price.update(another_dict_price)\n",
    "\n",
    "print(price)"
   ]
  },
  {
   "cell_type": "code",
   "execution_count": 8,
   "id": "a191acee",
   "metadata": {},
   "outputs": [
    {
     "name": "stdout",
     "output_type": "stream",
     "text": [
      "16.0\n"
     ]
    }
   ],
   "source": [
    "#c. How much money would you make if you sold all of your food?\n",
    "\n",
    "foods = {'banana': 4, 'apple': 2, 'orange': 1.5, 'pear': 3, 'grapes': 2.5, 'mellons': 3}\n",
    "\n",
    "total = 0\n",
    "for key in foods:\n",
    "    total = total + foods[key]\n",
    "    \n",
    "print(total)    "
   ]
  },
  {
   "cell_type": "code",
   "execution_count": 11,
   "id": "6c4cdd57",
   "metadata": {},
   "outputs": [
    {
     "name": "stdout",
     "output_type": "stream",
     "text": [
      "[24, 0, 48.0, 45]\n",
      "117.0\n"
     ]
    }
   ],
   "source": [
    "#How much money would you make if you sold all of your food in stock?\n",
    "stock = {\n",
    "\n",
    "    \"banana\": 6,\n",
    "\n",
    "    \"apple\": 0,\n",
    "\n",
    "    \"orange\": 32,\n",
    "\n",
    "    \"pear\": 15\n",
    "\n",
    "}\n",
    "\n",
    "\n",
    "prices = {\n",
    "\n",
    "    \"banana\": 4,\n",
    "\n",
    "    \"apple\": 2,\n",
    "\n",
    "    \"orange\": 1.5,\n",
    "\n",
    "    \"pear\": 3\n",
    "\n",
    "}\n",
    "\n",
    "\n",
    "lst = []\n",
    "for item in stock:\n",
    "    for price in prices:\n",
    "        if item==price:\n",
    "            total_money = stock[item]*prices[price]\n",
    "            lst.append(total_money)\n",
    "            \n",
    "print(lst)\n",
    "print(sum(lst))\n"
   ]
  },
  {
   "cell_type": "markdown",
   "id": "9b268366",
   "metadata": {},
   "source": [
    "# exercise 5"
   ]
  },
  {
   "cell_type": "code",
   "execution_count": 1,
   "id": "dabdd62a",
   "metadata": {},
   "outputs": [
    {
     "data": {
      "text/plain": [
       "74.0"
      ]
     },
     "execution_count": 1,
     "metadata": {},
     "output_type": "execute_result"
    }
   ],
   "source": [
    "lloyd = {\n",
    "\n",
    "  \"name\": \"Lloyd\",\n",
    "\n",
    "  \"homework\": [90.0,97.0,75.0,92.0],\n",
    "\n",
    "  \"quizzes\": [88.0,40.0,94.0],\n",
    "\n",
    "  \"tests\": [75.0,90.0]\n",
    "\n",
    "}\n",
    "\n",
    "alice = {\n",
    "\n",
    "  \"name\": \"Alice\",\n",
    "\n",
    "  \"homework\": [100.0, 92.0, 98.0, 100.0],\n",
    "\n",
    "  \"quizzes\": [82.0, 83.0, 91.0],\n",
    "\n",
    "  \"tests\": [89.0, 97.0]\n",
    "\n",
    "}\n",
    "\n",
    "tyler = {\n",
    "\n",
    "  \"name\": \"Tyler\",\n",
    "\n",
    "  \"homework\": [0.0, 87.0, 75.0, 22.0],\n",
    "\n",
    "  \"quizzes\": [0.0, 75.0, 78.0],\n",
    "\n",
    "  \"tests\": [100.0, 100.0]\n",
    "    \n",
    "}\n",
    "\n",
    "\n",
    "\n",
    "\n",
    "\n",
    "    \n",
    "sum(lloyd['homework'])/len(lloyd['homework'])\n",
    "sum(lloyd['quizzes'])/len(lloyd['quizzes'])"
   ]
  },
  {
   "cell_type": "code",
   "execution_count": 2,
   "id": "e1d99fa5",
   "metadata": {},
   "outputs": [
    {
     "data": {
      "text/plain": [
       "{'Lloyd': {'homework': 88.5, 'quizzes': 74.0, 'tests': 82.5},\n",
       " 'Alice': {'homework': 97.5, 'quizzes': 85.33333333333333, 'tests': 93.0},\n",
       " 'Tyler': {'homework': 46.0, 'quizzes': 51.0, 'tests': 100.0}}"
      ]
     },
     "execution_count": 2,
     "metadata": {},
     "output_type": "execute_result"
    }
   ],
   "source": [
    "students = [lloyd, alice, tyler]\n",
    "student_grades = {\"Lloyd\":{},\"Alice\":{},\"Tyler\":{}}\n",
    "\n",
    "for student in students: # we loop for every dictionary\n",
    "    for key in student: # we loop for every category inside each student profile\n",
    "        if key != 'name':\n",
    "            # print(key)\n",
    "            # print(student['name'])\n",
    "            avg_grade = sum(student[key])/len(student[key])\n",
    "            # print(avg_grade)\n",
    "            student_grades[student['name']].update({key:avg_grade}) # we write the average for each category to the\n",
    "student_grades                                                      # the corresponding kew in the new dictionary"
   ]
  },
  {
   "cell_type": "code",
   "execution_count": 3,
   "id": "5c0000b7",
   "metadata": {},
   "outputs": [
    {
     "data": {
      "text/plain": [
       "{'Lloyd': {'homework': 'B', 'quizzes': 'C', 'tests': 'B'},\n",
       " 'Alice': {'homework': 'A', 'quizzes': 'B', 'tests': 'A'},\n",
       " 'Tyler': {'homework': 'F', 'quizzes': 'F', 'tests': 'A'}}"
      ]
     },
     "execution_count": 3,
     "metadata": {},
     "output_type": "execute_result"
    }
   ],
   "source": [
    "for student in student_grades:\n",
    "    for key in student_grades[student]:\n",
    "        x = student_grades[student][key] # we get the score of each category\n",
    "        if x >= 90:\n",
    "            grade = 'A'\n",
    "        elif 80 <= x < 90:\n",
    "            grade = 'B'\n",
    "        elif 70 <= x < 80:\n",
    "            grade = 'C'\n",
    "        elif 60 <= x < 70:\n",
    "            grade = 'D'\n",
    "        else:\n",
    "            grade = 'F'\n",
    "        student_grades[student][key] = grade # we update the value with the string\n",
    "student_grades"
   ]
  },
  {
   "cell_type": "code",
   "execution_count": 4,
   "id": "5d334770",
   "metadata": {},
   "outputs": [
    {
     "data": {
      "text/plain": [
       "[100.0, 92.0, 98.0, 100.0]"
      ]
     },
     "execution_count": 4,
     "metadata": {},
     "output_type": "execute_result"
    }
   ],
   "source": [
    "alice = {\n",
    "  \"name\": \"Alice\",\n",
    "  \"homework\": [100.0, 92.0, 98.0, 100.0],\n",
    "  \"quizzes\": [82.0, 83.0, 91.0],\n",
    "  \"tests\": [89.0, 97.0]\n",
    "}\n",
    "\n",
    "x = alice['homework']\n",
    "x"
   ]
  },
  {
   "cell_type": "code",
   "execution_count": 5,
   "id": "9ab776aa",
   "metadata": {},
   "outputs": [
    {
     "name": "stdout",
     "output_type": "stream",
     "text": [
      "0 100.0\n",
      "1 92.0\n",
      "2 98.0\n",
      "3 100.0\n"
     ]
    }
   ],
   "source": [
    "for i, element in enumerate(x):\n",
    "    print(i, element)"
   ]
  },
  {
   "cell_type": "code",
   "execution_count": 6,
   "id": "dbe36d1c",
   "metadata": {},
   "outputs": [
    {
     "name": "stdout",
     "output_type": "stream",
     "text": [
      "0 100.0 A\n",
      "1 92.0 A\n",
      "2 98.0 A\n",
      "3 100.0 A\n"
     ]
    }
   ],
   "source": [
    "def convert_grades(x):\n",
    "    if x >= 90:\n",
    "        grade = 'A'\n",
    "    elif 80 <= x < 90:\n",
    "        grade = 'B'\n",
    "    elif 70 <= x < 80:\n",
    "        grade = 'C'\n",
    "    elif 60 <= x < 70:\n",
    "        grade = 'D'\n",
    "    else:\n",
    "        grade = 'F'\n",
    "    return grade\n",
    "\n",
    "for index, element in enumerate(x):\n",
    "    print(index, element, convert_grades(element))"
   ]
  },
  {
   "cell_type": "code",
   "execution_count": 7,
   "id": "7afe14f5",
   "metadata": {},
   "outputs": [],
   "source": [
    "for i, element in enumerate(x):\n",
    "    a = convert_grades(element)\n",
    "    x[i] = a"
   ]
  },
  {
   "cell_type": "code",
   "execution_count": 8,
   "id": "7f2c978a",
   "metadata": {},
   "outputs": [
    {
     "data": {
      "text/plain": [
       "['A', 'A', 'A', 'A']"
      ]
     },
     "execution_count": 8,
     "metadata": {},
     "output_type": "execute_result"
    }
   ],
   "source": [
    "x"
   ]
  }
 ],
 "metadata": {
  "kernelspec": {
   "display_name": "Python 3 (ipykernel)",
   "language": "python",
   "name": "python3"
  },
  "language_info": {
   "codemirror_mode": {
    "name": "ipython",
    "version": 3
   },
   "file_extension": ".py",
   "mimetype": "text/x-python",
   "name": "python",
   "nbconvert_exporter": "python",
   "pygments_lexer": "ipython3",
   "version": "3.8.10"
  }
 },
 "nbformat": 4,
 "nbformat_minor": 5
}
